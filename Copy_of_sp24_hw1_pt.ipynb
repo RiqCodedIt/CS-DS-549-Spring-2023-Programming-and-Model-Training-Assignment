{
  "cells": [
    {
      "cell_type": "markdown",
      "metadata": {
        "id": "EVrgsfrvssZy"
      },
      "source": [
        "# CS/DS 549 Spring 2023 Programming and Model Training Assignment"
      ]
    },
    {
      "cell_type": "markdown",
      "metadata": {
        "id": "WutbXQutssZz"
      },
      "source": [
        "<a href=\"https://colab.research.google.com/github/BU-Spark/ml-549-course/blob/main/homeworks/spring24_hw1/sp24_hw1_pt.ipynb\" target=\"_blank\"><img src=\"https://colab.research.google.com/assets/colab-badge.png\" alt=\"Open In Colab\"/></a>"
      ]
    },
    {
      "cell_type": "markdown",
      "metadata": {
        "id": "AhG4tKa0ssZz"
      },
      "source": [
        "## Introduction"
      ]
    },
    {
      "cell_type": "markdown",
      "metadata": {
        "id": "hN4Jkqc1ssZ0"
      },
      "source": [
        "The goal of this assignment is to train an image classifier on the CIFAR10\n",
        "dataset. CIFAR10 is a \"toy\" dataset in that it only has 10 classes and image\n",
        "resolution of 32x32x3. There are 50K training images and 10K test images.\n",
        "\n",
        "Your task is to define a _neural network model_ and _training\n",
        "hyperparameters_ to reach a __minimum validation accuracy\n",
        "of 60%__.\n",
        "\n",
        "The code below is fully functional albeit a simple model with basic hyperparameters.\n",
        "Update the model and hyperparameters to get the validation accuracy above the\n",
        "minimum.\n",
        "\n",
        "The parts of the code you need to change are indicated by the delimiters:\n",
        "\n",
        "```python\n",
        "### BEGIN SOLUTION\n",
        "<your code>\n",
        "### END SOLUTION\n",
        "```\n",
        "\n",
        "Aspects you may want to experiment with are:\n",
        "1. Deeper and more complex models.\n",
        "2. Different training optimizers.\n",
        "3. Hyperparameters like batch_size and epochs.\n",
        "\n",
        "If you really want get more sophisticated, but not necessary, you can attempt\n",
        "1. pre-training on a larger dataset and transfer learning\n",
        "2. additional input image augmentations.\n",
        "\n",
        "The following are **prohibited**, however:\n",
        "1. Loading a predefined model.\n",
        "2. Using a pre-trained model.\n",
        "\n",
        "You can run this notebook locally on your computer, on SCC or on Google Colab,\n",
        "with the proper setup."
      ]
    },
    {
      "cell_type": "code",
      "execution_count": null,
      "metadata": {
        "id": "63FUc-vZssZ0"
      },
      "outputs": [],
      "source": [
        "# The pip install command below is ensure install in Google Colab"
      ]
    },
    {
      "cell_type": "code",
      "execution_count": null,
      "metadata": {
        "id": "UgyfkoUwy3KL"
      },
      "outputs": [],
      "source": [
        "device = 'cuda' if torch.cuda.is_available() else 'cpu'"
      ]
    },
    {
      "cell_type": "code",
      "execution_count": null,
      "metadata": {
        "colab": {
          "base_uri": "https://localhost:8080/"
        },
        "id": "DF21VorxssZ1",
        "outputId": "ee0485ec-9fc5-4d2f-b809-ef8102eccf02"
      },
      "outputs": [
        {
          "name": "stdout",
          "output_type": "stream",
          "text": [
            "Collecting torchinfo\n",
            "  Downloading torchinfo-1.8.0-py3-none-any.whl (23 kB)\n",
            "Installing collected packages: torchinfo\n",
            "Successfully installed torchinfo-1.8.0\n"
          ]
        }
      ],
      "source": [
        "!pip install torchinfo\n",
        "# !pip install torch"
      ]
    },
    {
      "cell_type": "code",
      "execution_count": null,
      "metadata": {
        "id": "erfAGCwdssZ1"
      },
      "outputs": [],
      "source": [
        "# Import necessary libraries\n",
        "import torch\n",
        "import torch.nn as nn\n",
        "import torch.nn.functional as F\n",
        "import torch.optim as optim\n",
        "from torch.utils.data import DataLoader\n",
        "from torchvision import datasets, transforms\n",
        "\n",
        "from torchinfo import summary\n",
        "\n",
        "import matplotlib.pyplot as plt"
      ]
    },
    {
      "cell_type": "code",
      "execution_count": null,
      "metadata": {
        "id": "zerfcvBwy42g"
      },
      "outputs": [],
      "source": []
    },
    {
      "cell_type": "markdown",
      "metadata": {
        "id": "IR-B2z-tssZ1"
      },
      "source": [
        "## Load the Dataset"
      ]
    },
    {
      "cell_type": "code",
      "execution_count": null,
      "metadata": {
        "colab": {
          "base_uri": "https://localhost:8080/"
        },
        "id": "BAQhwEk0ssZ1",
        "outputId": "b3674bbd-7f96-436d-b8ac-561a50be4f18"
      },
      "outputs": [
        {
          "name": "stdout",
          "output_type": "stream",
          "text": [
            "Downloading https://www.cs.toronto.edu/~kriz/cifar-10-python.tar.gz to ./data/cifar-10-python.tar.gz\n"
          ]
        },
        {
          "name": "stderr",
          "output_type": "stream",
          "text": [
            "100%|██████████| 170498071/170498071 [00:05<00:00, 28834921.94it/s]\n"
          ]
        },
        {
          "name": "stdout",
          "output_type": "stream",
          "text": [
            "Extracting ./data/cifar-10-python.tar.gz to ./data\n",
            "Files already downloaded and verified\n"
          ]
        }
      ],
      "source": [
        "# Load the CIFAR-10 dataset\n",
        "transform = transforms.Compose(\n",
        "    [transforms.ToTensor(),\n",
        "     transforms.Normalize((0.5, 0.5, 0.5), (0.5, 0.5, 0.5))])\n",
        "\n",
        "### BEGIN SOLUTION\n",
        "batch_size = 4\n",
        "### END SOLUTION\n",
        "\n",
        "trainset = datasets.CIFAR10(root='./data', train=True, download=True, transform=transform)\n",
        "trainloader = DataLoader(trainset, batch_size=batch_size, shuffle=True, num_workers=2)\n",
        "\n",
        "testset = datasets.CIFAR10(root='./data', train=False, download=True, transform=transform)\n",
        "testloader = DataLoader(testset, batch_size=batch_size, shuffle=False, num_workers=2)"
      ]
    },
    {
      "cell_type": "markdown",
      "metadata": {
        "id": "wbr_4-hossZ1"
      },
      "source": [
        "Let's look at some statistics on the training and test set."
      ]
    },
    {
      "cell_type": "code",
      "execution_count": null,
      "metadata": {
        "colab": {
          "base_uri": "https://localhost:8080/"
        },
        "id": "z6X8tAa7ssZ2",
        "outputId": "4ff93bb5-554f-499a-c507-747bada382fb"
      },
      "outputs": [
        {
          "name": "stdout",
          "output_type": "stream",
          "text": [
            "The size of the training set is 50000 images\n",
            "The size of the test set is 10000 images\n"
          ]
        }
      ],
      "source": [
        "print(f\"The size of the training set is {len(trainset)} images\")\n",
        "print(f\"The size of the test set is {len(testset)} images\")"
      ]
    },
    {
      "cell_type": "markdown",
      "metadata": {
        "id": "6r3CB1swssZ2"
      },
      "source": [
        "Let's look at the loaders."
      ]
    },
    {
      "cell_type": "code",
      "execution_count": null,
      "metadata": {
        "colab": {
          "base_uri": "https://localhost:8080/"
        },
        "id": "c_E3pbgzssZ2",
        "outputId": "505ffbea-2f5c-4c84-be96-414f803cc637"
      },
      "outputs": [
        {
          "name": "stdout",
          "output_type": "stream",
          "text": [
            "The size of trainloader is  12500\n",
            "The size of testloader is  2500\n"
          ]
        }
      ],
      "source": [
        "print(\"The size of trainloader is \", len(trainloader))\n",
        "print(\"The size of testloader is \", len(testloader))"
      ]
    },
    {
      "cell_type": "markdown",
      "metadata": {
        "id": "zVkiPa8ussZ2"
      },
      "source": [
        "### Question: Why is trainloader and testloader smaller than trainset and testset?"
      ]
    },
    {
      "cell_type": "markdown",
      "metadata": {
        "id": "fW6sKJ5LssZ2"
      },
      "source": [
        "__### Put your answer here. ###__\n",
        "\n",
        "The loaders will load each image in batches so the train and test loaders are 4x smaller than the trainset and testset.\n"
      ]
    },
    {
      "cell_type": "markdown",
      "metadata": {
        "id": "vszUSAL2ssZ2"
      },
      "source": [
        "## Define the Model"
      ]
    },
    {
      "cell_type": "code",
      "execution_count": null,
      "metadata": {
        "id": "YpNvSwXbssZ2"
      },
      "outputs": [],
      "source": [
        "# Define the model architecture\n",
        "class Net(nn.Module):\n",
        "    def __init__(self):\n",
        "        \"\"\"Initialize the neural network layers we want to use in our model's\n",
        "        forward pass.\"\"\"\n",
        "        super(Net, self).__init__()\n",
        "\n",
        "        # 10 classes and image resolution of 32x32x3\n",
        "\n",
        "        ### BEGIN SOLUTION\n",
        "        self.network = nn.Sequential(\n",
        "        nn.Conv2d(3, 32, kernel_size=3, padding=1),\n",
        "        nn.ReLU(),\n",
        "        nn.Conv2d(32, 64, kernel_size=3, padding=1),\n",
        "        nn.ReLU(),\n",
        "        nn.MaxPool2d(2, 2),\n",
        "        nn.BatchNorm2d(64),\n",
        "\n",
        "        nn.Conv2d(64, 128, kernel_size=3, padding=1),\n",
        "        nn.ReLU(),\n",
        "        nn.Conv2d(128, 128, kernel_size=3, padding=1),\n",
        "        nn.ReLU(),\n",
        "        nn.MaxPool2d(2, 2),\n",
        "        nn.BatchNorm2d(128),\n",
        "        nn.Dropout(0.2),\n",
        "\n",
        "        nn.Conv2d(128, 256, kernel_size=3, padding=1),\n",
        "        nn.ReLU(),\n",
        "        nn.Conv2d(256, 256, kernel_size=3, padding=1),\n",
        "        nn.ReLU(),\n",
        "        nn.MaxPool2d(2, 2),\n",
        "        nn.BatchNorm2d(256),\n",
        "        nn.Dropout(0.2),\n",
        "\n",
        "        nn.Flatten(),\n",
        "        nn.Linear(256 * 4 * 4, 1024),  # Calculate the correct input size\n",
        "        nn.ReLU(),\n",
        "        nn.Linear(1024, 512),\n",
        "        nn.ReLU(),\n",
        "        nn.Linear(512, 10)\n",
        ")\n",
        "        ### END SOLUTION\n",
        "\n",
        "    def forward(self, x):\n",
        "        return self.network(x)"
      ]
    },
    {
      "cell_type": "code",
      "execution_count": null,
      "metadata": {
        "colab": {
          "base_uri": "https://localhost:8080/"
        },
        "id": "LX48QrGQssZ2",
        "outputId": "d6cb8605-e553-4699-b5ff-af08e602fa6b"
      },
      "outputs": [
        {
          "name": "stdout",
          "output_type": "stream",
          "text": [
            "Net(\n",
            "  (network): Sequential(\n",
            "    (0): Conv2d(3, 32, kernel_size=(3, 3), stride=(1, 1), padding=(1, 1))\n",
            "    (1): ReLU()\n",
            "    (2): Conv2d(32, 64, kernel_size=(3, 3), stride=(1, 1), padding=(1, 1))\n",
            "    (3): ReLU()\n",
            "    (4): MaxPool2d(kernel_size=2, stride=2, padding=0, dilation=1, ceil_mode=False)\n",
            "    (5): BatchNorm2d(64, eps=1e-05, momentum=0.1, affine=True, track_running_stats=True)\n",
            "    (6): Conv2d(64, 128, kernel_size=(3, 3), stride=(1, 1), padding=(1, 1))\n",
            "    (7): ReLU()\n",
            "    (8): Conv2d(128, 128, kernel_size=(3, 3), stride=(1, 1), padding=(1, 1))\n",
            "    (9): ReLU()\n",
            "    (10): MaxPool2d(kernel_size=2, stride=2, padding=0, dilation=1, ceil_mode=False)\n",
            "    (11): BatchNorm2d(128, eps=1e-05, momentum=0.1, affine=True, track_running_stats=True)\n",
            "    (12): Dropout(p=0.2, inplace=False)\n",
            "    (13): Conv2d(128, 256, kernel_size=(3, 3), stride=(1, 1), padding=(1, 1))\n",
            "    (14): ReLU()\n",
            "    (15): Conv2d(256, 256, kernel_size=(3, 3), stride=(1, 1), padding=(1, 1))\n",
            "    (16): ReLU()\n",
            "    (17): MaxPool2d(kernel_size=2, stride=2, padding=0, dilation=1, ceil_mode=False)\n",
            "    (18): BatchNorm2d(256, eps=1e-05, momentum=0.1, affine=True, track_running_stats=True)\n",
            "    (19): Dropout(p=0.2, inplace=False)\n",
            "    (20): Flatten(start_dim=1, end_dim=-1)\n",
            "    (21): Linear(in_features=4096, out_features=1024, bias=True)\n",
            "    (22): ReLU()\n",
            "    (23): Linear(in_features=1024, out_features=512, bias=True)\n",
            "    (24): ReLU()\n",
            "    (25): Linear(in_features=512, out_features=10, bias=True)\n",
            "  )\n",
            ")\n",
            "==========================================================================================\n",
            "Layer (type:depth-idx)                   Output Shape              Param #\n",
            "==========================================================================================\n",
            "Net                                      [4, 10]                   --\n",
            "├─Sequential: 1-1                        [4, 10]                   --\n",
            "│    └─Conv2d: 2-1                       [4, 32, 32, 32]           896\n",
            "│    └─ReLU: 2-2                         [4, 32, 32, 32]           --\n",
            "│    └─Conv2d: 2-3                       [4, 64, 32, 32]           18,496\n",
            "│    └─ReLU: 2-4                         [4, 64, 32, 32]           --\n",
            "│    └─MaxPool2d: 2-5                    [4, 64, 16, 16]           --\n",
            "│    └─BatchNorm2d: 2-6                  [4, 64, 16, 16]           128\n",
            "│    └─Conv2d: 2-7                       [4, 128, 16, 16]          73,856\n",
            "│    └─ReLU: 2-8                         [4, 128, 16, 16]          --\n",
            "│    └─Conv2d: 2-9                       [4, 128, 16, 16]          147,584\n",
            "│    └─ReLU: 2-10                        [4, 128, 16, 16]          --\n",
            "│    └─MaxPool2d: 2-11                   [4, 128, 8, 8]            --\n",
            "│    └─BatchNorm2d: 2-12                 [4, 128, 8, 8]            256\n",
            "│    └─Dropout: 2-13                     [4, 128, 8, 8]            --\n",
            "│    └─Conv2d: 2-14                      [4, 256, 8, 8]            295,168\n",
            "│    └─ReLU: 2-15                        [4, 256, 8, 8]            --\n",
            "│    └─Conv2d: 2-16                      [4, 256, 8, 8]            590,080\n",
            "│    └─ReLU: 2-17                        [4, 256, 8, 8]            --\n",
            "│    └─MaxPool2d: 2-18                   [4, 256, 4, 4]            --\n",
            "│    └─BatchNorm2d: 2-19                 [4, 256, 4, 4]            512\n",
            "│    └─Dropout: 2-20                     [4, 256, 4, 4]            --\n",
            "│    └─Flatten: 2-21                     [4, 4096]                 --\n",
            "│    └─Linear: 2-22                      [4, 1024]                 4,195,328\n",
            "│    └─ReLU: 2-23                        [4, 1024]                 --\n",
            "│    └─Linear: 2-24                      [4, 512]                  524,800\n",
            "│    └─ReLU: 2-25                        [4, 512]                  --\n",
            "│    └─Linear: 2-26                      [4, 10]                   5,130\n",
            "==========================================================================================\n",
            "Total params: 5,852,234\n",
            "Trainable params: 5,852,234\n",
            "Non-trainable params: 0\n",
            "Total mult-adds (M): 551.71\n",
            "==========================================================================================\n",
            "Input size (MB): 0.05\n",
            "Forward/backward pass size (MB): 7.26\n",
            "Params size (MB): 23.41\n",
            "Estimated Total Size (MB): 30.72\n",
            "==========================================================================================\n"
          ]
        }
      ],
      "source": [
        "# Initialize the model\n",
        "net = Net()\n",
        "net.to(device)\n",
        "print(net)\n",
        "\n",
        "print(summary(net, input_size=(batch_size, 3, 32, 32)))\n"
      ]
    },
    {
      "cell_type": "code",
      "execution_count": null,
      "metadata": {
        "id": "VFbtlbACssZ2"
      },
      "outputs": [],
      "source": [
        "# Define a Loss function and optimizer\n",
        "criterion = nn.CrossEntropyLoss()\n",
        "\n",
        "### BEGIN SOLUTION\n",
        "optimizer = optim.SGD(net.parameters(), lr=0.001)\n",
        "### END SOLUTION"
      ]
    },
    {
      "cell_type": "markdown",
      "metadata": {
        "id": "Bltjuaj1ssZ2"
      },
      "source": [
        "## Train the Model"
      ]
    },
    {
      "cell_type": "code",
      "execution_count": null,
      "metadata": {
        "colab": {
          "base_uri": "https://localhost:8080/"
        },
        "id": "3OaPFib9ssZ2",
        "outputId": "dd8424fa-44af-4b9a-d4ee-9a9efce26db2"
      },
      "outputs": [
        {
          "name": "stdout",
          "output_type": "stream",
          "text": [
            "[1,  1250] loss: 2.127\n",
            "[1,  2500] loss: 1.769\n",
            "[1,  3750] loss: 1.596\n",
            "[1,  5000] loss: 1.482\n",
            "[1,  6250] loss: 1.383\n",
            "[1,  7500] loss: 1.312\n",
            "[1,  8750] loss: 1.237\n",
            "[1, 10000] loss: 1.155\n",
            "[1, 11250] loss: 1.103\n",
            "[1, 12500] loss: 1.080\n",
            "Epoch 1 took 86.70530676841736 seconds\n",
            "[2,  1250] loss: 1.000\n",
            "[2,  2500] loss: 0.960\n",
            "[2,  3750] loss: 0.975\n",
            "[2,  5000] loss: 0.919\n",
            "[2,  6250] loss: 0.910\n",
            "[2,  7500] loss: 0.877\n",
            "[2,  8750] loss: 0.841\n",
            "[2, 10000] loss: 0.840\n",
            "[2, 11250] loss: 0.843\n",
            "[2, 12500] loss: 0.820\n",
            "Epoch 2 took 85.32444167137146 seconds\n",
            "[3,  1250] loss: 0.743\n",
            "[3,  2500] loss: 0.711\n",
            "[3,  3750] loss: 0.731\n",
            "[3,  5000] loss: 0.700\n",
            "[3,  6250] loss: 0.707\n",
            "[3,  7500] loss: 0.698\n",
            "[3,  8750] loss: 0.701\n",
            "[3, 10000] loss: 0.678\n",
            "[3, 11250] loss: 0.671\n",
            "[3, 12500] loss: 0.696\n",
            "Epoch 3 took 85.94338750839233 seconds\n",
            "[4,  1250] loss: 0.589\n",
            "[4,  2500] loss: 0.578\n",
            "[4,  3750] loss: 0.574\n",
            "[4,  5000] loss: 0.615\n",
            "[4,  6250] loss: 0.617\n",
            "[4,  7500] loss: 0.583\n",
            "[4,  8750] loss: 0.598\n",
            "[4, 10000] loss: 0.557\n",
            "[4, 11250] loss: 0.579\n",
            "[4, 12500] loss: 0.572\n",
            "Epoch 4 took 86.11547017097473 seconds\n",
            "[5,  1250] loss: 0.476\n",
            "[5,  2500] loss: 0.467\n",
            "[5,  3750] loss: 0.476\n",
            "[5,  5000] loss: 0.470\n",
            "[5,  6250] loss: 0.508\n",
            "[5,  7500] loss: 0.500\n",
            "[5,  8750] loss: 0.491\n",
            "[5, 10000] loss: 0.510\n",
            "[5, 11250] loss: 0.490\n",
            "[5, 12500] loss: 0.527\n",
            "Epoch 5 took 86.06139993667603 seconds\n",
            "[6,  1250] loss: 0.399\n",
            "[6,  2500] loss: 0.418\n",
            "[6,  3750] loss: 0.439\n",
            "[6,  5000] loss: 0.434\n",
            "[6,  6250] loss: 0.405\n",
            "[6,  7500] loss: 0.402\n",
            "[6,  8750] loss: 0.405\n",
            "[6, 10000] loss: 0.422\n",
            "[6, 11250] loss: 0.440\n",
            "[6, 12500] loss: 0.404\n",
            "Epoch 6 took 86.07745361328125 seconds\n",
            "[7,  1250] loss: 0.344\n",
            "[7,  2500] loss: 0.336\n",
            "[7,  3750] loss: 0.322\n",
            "[7,  5000] loss: 0.332\n",
            "[7,  6250] loss: 0.351\n",
            "[7,  7500] loss: 0.363\n",
            "[7,  8750] loss: 0.339\n",
            "[7, 10000] loss: 0.354\n",
            "[7, 11250] loss: 0.386\n",
            "[7, 12500] loss: 0.414\n",
            "Epoch 7 took 86.9910044670105 seconds\n",
            "Finished Training with training loss of  0.41390999155868774\n"
          ]
        }
      ],
      "source": [
        "import time\n",
        "\n",
        "# Initialize a list to hold the losses\n",
        "losses = []\n",
        "\n",
        "# Calculate number of batches to process to report 10 times per epoch\n",
        "len_trainloader = len(trainloader)\n",
        "report_every = len_trainloader // 10\n",
        "\n",
        "### BEGIN SOLUTION\n",
        "epochs = 7\n",
        "### END SOLUTION\n",
        "\n",
        "# Train the network\n",
        "for epoch in range(epochs):  # loop over the dataset multiple times\n",
        "\n",
        "    start_time = time.time()\n",
        "\n",
        "    running_loss = 0.0\n",
        "\n",
        "    for i, data in enumerate(trainloader, 0):\n",
        "        # get the inputs; data is a list of [inputs, labels]\n",
        "        inputs, labels = data\n",
        "        inputs = inputs.to(device)\n",
        "        labels = labels.to(device)\n",
        "\n",
        "        # zero the parameter gradients\n",
        "        optimizer.zero_grad()\n",
        "\n",
        "        # forward + backward + optimize\n",
        "        outputs = net(inputs)\n",
        "        loss = criterion(outputs, labels)\n",
        "        loss.backward()\n",
        "        optimizer.step()\n",
        "\n",
        "        # record the loss\n",
        "        # losses.append(loss.item())\n",
        "\n",
        "        # print statistics\n",
        "        running_loss += loss.item()\n",
        "        if i % report_every == report_every - 1:\n",
        "            print('[%d, %5d] loss: %.3f' % (epoch + 1, i + 1, running_loss / report_every))\n",
        "\n",
        "            losses.append(running_loss / report_every)\n",
        "            running_loss = 0.0\n",
        "\n",
        "    end_time = time.time()\n",
        "    print('Epoch {} took {} seconds'.format(epoch+1, end_time - start_time))\n",
        "\n",
        "print('Finished Training with training loss of ', losses[-1])"
      ]
    },
    {
      "cell_type": "code",
      "execution_count": null,
      "metadata": {
        "colab": {
          "base_uri": "https://localhost:8080/",
          "height": 472
        },
        "id": "LUSI2w48ssZ2",
        "outputId": "cb0b660a-01fb-4305-da00-a59d7c4d9c8a"
      },
      "outputs": [
        {
          "data": {
            "image/png": "[encoded data removed]",
            "text/plain": [
              "<Figure size 640x480 with 1 Axes>"
            ]
          },
          "metadata": {},
          "output_type": "display_data"
        }
      ],
      "source": [
        "# Plot the training loss\n",
        "plt.plot(losses)\n",
        "plt.title('Training Loss')\n",
        "plt.xlabel('Batch # / 2000')\n",
        "plt.ylabel('Loss')\n",
        "plt.show()"
      ]
    },
    {
      "cell_type": "code",
      "execution_count": null,
      "metadata": {
        "colab": {
          "base_uri": "https://localhost:8080/"
        },
        "id": "D5mEQLVDssZ2",
        "outputId": "ca0e515f-7b5a-4a63-97b4-d85493e963d3"
      },
      "outputs": [
        {
          "name": "stdout",
          "output_type": "stream",
          "text": [
            "Accuracy of the network on the training images: 90 %\n",
            "Average training loss: 0.272\n"
          ]
        }
      ],
      "source": [
        "# Evaluate accuracy on the training data\n",
        "correct = 0\n",
        "total = 0\n",
        "train_loss = 0\n",
        "\n",
        "with torch.no_grad():\n",
        "    for data in trainloader:\n",
        "        images, labels = data\n",
        "        images = images.to(device)\n",
        "        labels = labels.to(device)\n",
        "\n",
        "\n",
        "        outputs = net(images)\n",
        "\n",
        "        loss = criterion(outputs, labels)\n",
        "        train_loss += loss.item()\n",
        "\n",
        "        _, predicted = torch.max(outputs.data, 1)\n",
        "        total += labels.size(0)\n",
        "        correct += (predicted == labels).sum().item()\n",
        "\n",
        "accuracy = correct / total * 100\n",
        "\n",
        "# Calculate average test loss\n",
        "avg_train_loss = train_loss / len(trainloader)\n",
        "\n",
        "print('Accuracy of the network on the training images: %d %%' % (accuracy))\n",
        "print('Average training loss: %.3f' % (avg_train_loss))"
      ]
    },
    {
      "cell_type": "markdown",
      "metadata": {
        "id": "3P0j4YyessZ2"
      },
      "source": [
        "## Evaluate the Model"
      ]
    },
    {
      "cell_type": "code",
      "execution_count": null,
      "metadata": {
        "id": "yMd724YJssZ2"
      },
      "outputs": [],
      "source": [
        "# We'll set the baseline accuracy we want for this exercise.\n",
        "baseline_accuracy = 60.0"
      ]
    },
    {
      "cell_type": "code",
      "execution_count": null,
      "metadata": {
        "colab": {
          "base_uri": "https://localhost:8080/"
        },
        "id": "CXpJ3gzPssZ2",
        "outputId": "0087d104-e8ad-4744-a9be-6a48eae116c4"
      },
      "outputs": [
        {
          "name": "stdout",
          "output_type": "stream",
          "text": [
            "Accuracy of the network on the 10000 test images: 79 %\n",
            "Average test loss: 0.611\n"
          ]
        }
      ],
      "source": [
        "# Evaluate the network on the test data\n",
        "correct = 0\n",
        "total = 0\n",
        "test_loss = 0\n",
        "\n",
        "with torch.no_grad():\n",
        "    for data in testloader:\n",
        "        images, labels = data\n",
        "        images = images.to(device)\n",
        "        labels = labels.to(device)\n",
        "\n",
        "        outputs = net(images)\n",
        "\n",
        "        loss = criterion(outputs, labels)\n",
        "        test_loss += loss.item()\n",
        "\n",
        "        _, predicted = torch.max(outputs.data, 1)\n",
        "        total += labels.size(0)\n",
        "        correct += (predicted == labels).sum().item()\n",
        "\n",
        "accuracy = correct / total * 100\n",
        "\n",
        "# Calculate average test loss\n",
        "avg_test_loss = test_loss / len(testloader)\n",
        "\n",
        "print('Accuracy of the network on the 10000 test images: %d %%' % (accuracy))\n",
        "print('Average test loss: %.3f' % (avg_test_loss))"
      ]
    },
    {
      "cell_type": "markdown",
      "metadata": {
        "id": "mpEkjrxTssZ3"
      },
      "source": [
        "### Let's see how you did"
      ]
    },
    {
      "cell_type": "code",
      "execution_count": null,
      "metadata": {
        "colab": {
          "base_uri": "https://localhost:8080/"
        },
        "id": "lWKe6Z_4ssZ3",
        "outputId": "ef351d5c-b6c6-41bf-ab5b-75e13b22f802"
      },
      "outputs": [
        {
          "name": "stdout",
          "output_type": "stream",
          "text": [
            "And did you beat the baseline accuracy of  60.0 ?\n",
            "Yes!!! You beat the baseline accuracy!\n"
          ]
        }
      ],
      "source": [
        "print('And did you beat the baseline accuracy of ', baseline_accuracy, '?')\n",
        "\n",
        "if accuracy > baseline_accuracy:\n",
        "    print('Yes!!! You beat the baseline accuracy!')\n",
        "else:\n",
        "    print('Awww! Try again! You can do it!')\n",
        "\n",
        "# We put an assert here to raise an error if the accuracy is not greater than the baseline accuracy\n",
        "assert accuracy > baseline_accuracy, 'Accuracy did not beat baseline accuracy of {}'.format(baseline_accuracy)"
      ]
    },
    {
      "cell_type": "markdown",
      "metadata": {
        "id": "WWJisLeqssZ3"
      },
      "source": [
        "## Model Evaluation Questions"
      ]
    },
    {
      "cell_type": "markdown",
      "metadata": {
        "id": "bkoYTVFRssZ3"
      },
      "source": [
        "### Question: What was the accuracy of the model as initially defined in the assginment?"
      ]
    },
    {
      "cell_type": "markdown",
      "metadata": {
        "id": "akXW-lgxssZ3"
      },
      "source": [
        "__### YOUR ANSWER HERE ###__"
      ]
    },
    {
      "cell_type": "markdown",
      "metadata": {
        "id": "UFvpfljdssZ3"
      },
      "source": [
        "### Question: Try running the same model and training hyperparameters multiple times. Does the loss curve and final accuracy differ between runs? Why?"
      ]
    },
    {
      "cell_type": "markdown",
      "metadata": {
        "id": "ERv3Rn-2ssZ3"
      },
      "source": [
        "__### YOUR ANSWER HERE ###__\n",
        "\n",
        "Yes it does differ between runs since the model starts with random initialized weights which cause each training run to differ slightly."
      ]
    },
    {
      "cell_type": "markdown",
      "metadata": {
        "id": "NWHjXTqFssZ3"
      },
      "source": [
        "## Record Your Experiments Here"
      ]
    },
    {
      "cell_type": "markdown",
      "metadata": {
        "id": "59focoxQssZ3"
      },
      "source": [
        "It is helpful if you track your experiments so you can see what you changed and how it impacted accuracy."
      ]
    },
    {
      "cell_type": "markdown",
      "metadata": {
        "id": "3AMtHZTDssZ3"
      },
      "source": [
        "### Experiment Template (Copy and Edit)\n",
        "\n",
        "**Model Definition:**\n",
        "```python\n",
        "Net(\n",
        "  (network): Sequential(\n",
        "    (0): Conv2d(3, 32, kernel_size=(3, 3), stride=(1, 1), padding=(1, 1))\n",
        "    (1): ReLU()\n",
        "    (2): Conv2d(32, 64, kernel_size=(3, 3), stride=(1, 1), padding=(1, 1))\n",
        "    (3): ReLU()\n",
        "    (4): MaxPool2d(kernel_size=2, stride=2, padding=0, dilation=1, ceil_mode=False)\n",
        "    (5): BatchNorm2d(64, eps=1e-05, momentum=0.1, affine=True, track_running_stats=True)\n",
        "    (6): Conv2d(64, 128, kernel_size=(3, 3), stride=(1, 1), padding=(1, 1))\n",
        "    (7): ReLU()\n",
        "    (8): Conv2d(128, 128, kernel_size=(3, 3), stride=(1, 1), padding=(1, 1))\n",
        "    (9): ReLU()\n",
        "    (10): MaxPool2d(kernel_size=2, stride=2, padding=0, dilation=1, ceil_mode=False)\n",
        "    (11): BatchNorm2d(128, eps=1e-05, momentum=0.1, affine=True, track_running_stats=True)\n",
        "    (12): Dropout(p=0.2, inplace=False)\n",
        "    (13): Conv2d(128, 256, kernel_size=(3, 3), stride=(1, 1), padding=(1, 1))\n",
        "    (14): ReLU()\n",
        "    (15): Conv2d(256, 256, kernel_size=(3, 3), stride=(1, 1), padding=(1, 1))\n",
        "    (16): ReLU()\n",
        "    (17): MaxPool2d(kernel_size=2, stride=2, padding=0, dilation=1, ceil_mode=False)\n",
        "    (18): BatchNorm2d(256, eps=1e-05, momentum=0.1, affine=True, track_running_stats=True)\n",
        "    (19): Dropout(p=0.2, inplace=False)\n",
        "    (20): Flatten(start_dim=1, end_dim=-1)\n",
        "    (21): Linear(in_features=4096, out_features=1024, bias=True)\n",
        "    (22): ReLU()\n",
        "    (23): Linear(in_features=1024, out_features=512, bias=True)\n",
        "    (24): ReLU()\n",
        "    (25): Linear(in_features=512, out_features=10, bias=True)\n",
        "  )\n",
        ")```\n",
        "\n",
        "\n",
        "**Hyperparameters:**\n",
        "```python\n",
        "batch size:4\n",
        "epochs: 4\n",
        "optimizer: optimizer.SGD\n",
        "learning rate:0.001\n",
        "momentum:\n",
        "```\n",
        "Training Loss:   0.272\n",
        "Training Accuracy: 90\n",
        "\n",
        "Test Loss:    0.611\n",
        "**Test Accuracy: 79%**"
      ]
    },
    {
      "cell_type": "markdown",
      "metadata": {
        "id": "lH2CL1fxssZ3"
      },
      "source": []
    }
  ],
  "metadata": {
    "accelerator": "GPU",
    "colab": {
      "gpuType": "V100",
      "provenance": []
    },
    "kernelspec": {
      "display_name": "Python 3",
      "name": "python3"
    },
    "language_info": {
      "codemirror_mode": {
        "name": "ipython",
        "version": 3
      },
      "file_extension": ".py",
      "mimetype": "text/x-python",
      "name": "python",
      "nbconvert_exporter": "python",
      "pygments_lexer": "ipython3",
      "version": "3.11.5"
    }
  },
  "nbformat": 4,
  "nbformat_minor": 0
}
